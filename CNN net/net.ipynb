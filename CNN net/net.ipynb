{
 "cells": [
  {
   "cell_type": "markdown",
   "id": "33791f78",
   "metadata": {},
   "source": [
    "Re:从零开始的神经网络搭建"
   ]
  },
  {
   "cell_type": "code",
   "execution_count": 1,
   "id": "70130f01",
   "metadata": {},
   "outputs": [],
   "source": [
    "import torch\n",
    "import torch.nn as nn\n",
    "import torch.nn.functional as F"
   ]
  },
  {
   "cell_type": "code",
   "execution_count": 2,
   "id": "9b9020af",
   "metadata": {},
   "outputs": [
    {
     "name": "stdout",
     "output_type": "stream",
     "text": [
      "Net(\n",
      "  (conv1): Conv2d(1, 6, kernel_size=(5, 5), stride=(1, 1))\n",
      "  (conv2): Conv2d(6, 16, kernel_size=(5, 5), stride=(1, 1))\n",
      "  (fc1): Linear(in_features=400, out_features=120, bias=True)\n",
      "  (fc2): Linear(in_features=120, out_features=84, bias=True)\n",
      "  (fc3): Linear(in_features=84, out_features=10, bias=True)\n",
      ")\n"
     ]
    }
   ],
   "source": [
    "class Net(nn.Module):\n",
    "\n",
    "    def __init__(self):\n",
    "        super(Net,self).__init__()\n",
    "\n",
    "        self.conv1 = nn.Conv2d(1,6,5)\n",
    "        self.conv2 = nn.Conv2d(6,16,5)\n",
    "        \n",
    "        self.fc1 = nn.Linear(16*5*5,120)\n",
    "        self.fc2 = nn.Linear(120,84)\n",
    "        self.fc3 = nn.Linear(84,10)\n",
    "\n",
    "    def forward(self,input):\n",
    "        print(f'input:{input.shape}')\n",
    "        \n",
    "        c1 = F.relu(self.conv1(input))\n",
    "        print(f'c1:{c1.shape}')\n",
    "\n",
    "        s2 = F.max_pool2d(c1,(2,2))\n",
    "        print(f's2:{s2.shape}')\n",
    "\n",
    "        c3 = F.relu(self.conv2(s2))\n",
    "        print(f'c3:{c3.shape}')\n",
    "\n",
    "        s4 = F.max_pool2d(c3,2)\n",
    "        print(f's4:{s4.shape}')\n",
    "\n",
    "        s4 = torch.flatten(s4,1)\n",
    "        print(f's4:{s4.shape}')\n",
    "\n",
    "        f5 = F.relu(self.fc1(s4))\n",
    "        print(f'f5:{f5.shape}')\n",
    "\n",
    "        f6 = F.relu(self.fc2(f5))\n",
    "        print(f'f6:{f6.shape}')\n",
    "\n",
    "        output = self.fc3(f6)\n",
    "        return output\n",
    "net = Net()\n",
    "print(net)"
   ]
  },
  {
   "cell_type": "code",
   "execution_count": 3,
   "id": "adaa5fab",
   "metadata": {},
   "outputs": [
    {
     "name": "stdout",
     "output_type": "stream",
     "text": [
      "input:torch.Size([1, 1, 32, 32])\n",
      "c1:torch.Size([1, 6, 28, 28])\n",
      "s2:torch.Size([1, 6, 14, 14])\n",
      "c3:torch.Size([1, 16, 10, 10])\n",
      "s4:torch.Size([1, 16, 5, 5])\n",
      "s4:torch.Size([1, 400])\n",
      "f5:torch.Size([1, 120])\n",
      "f6:torch.Size([1, 84])\n",
      "output:torch.Size([1, 10])\n"
     ]
    }
   ],
   "source": [
    "input = torch.randn(1,1,32,32)\n",
    "out = net(input)\n",
    "print(f'output:{out.shape}')"
   ]
  }
 ],
 "metadata": {
  "kernelspec": {
   "display_name": "defect_detection",
   "language": "python",
   "name": "python3"
  },
  "language_info": {
   "codemirror_mode": {
    "name": "ipython",
    "version": 3
   },
   "file_extension": ".py",
   "mimetype": "text/x-python",
   "name": "python",
   "nbconvert_exporter": "python",
   "pygments_lexer": "ipython3",
   "version": "3.10.18"
  }
 },
 "nbformat": 4,
 "nbformat_minor": 5
}
